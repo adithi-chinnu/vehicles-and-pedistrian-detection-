{
 "cells": [
  {
   "cell_type": "code",
   "execution_count": 1,
   "id": "2577d3b6",
   "metadata": {},
   "outputs": [],
   "source": [
    "import cv2"
   ]
  },
  {
   "cell_type": "code",
   "execution_count": 2,
   "id": "fb58be44",
   "metadata": {},
   "outputs": [],
   "source": [
    "video_src = 'pedestrain.mp4'\n"
   ]
  },
  {
   "cell_type": "code",
   "execution_count": 3,
   "id": "9c6a06c5",
   "metadata": {},
   "outputs": [],
   "source": [
    "cap = cv2.VideoCapture(video_src)\n",
    "\n",
    "bike_cascade = cv2.CascadeClassifier('pedestrian (1).xml')"
   ]
  },
  {
   "cell_type": "code",
   "execution_count": 4,
   "id": "40f45ce1",
   "metadata": {},
   "outputs": [],
   "source": [
    "while True:\n",
    "    ret, img = cap.read()\n",
    "\t\n",
    "    \n",
    "    if (type(img) == type(None)):\n",
    "        break\n",
    "    \n",
    "    gray = cv2.cvtColor(img, cv2.COLOR_BGR2GRAY)\n",
    "    bike = bike_cascade.detectMultiScale(gray,1.3,2)\n",
    "\n",
    "    for(a,b,c,d) in bike:\n",
    "        cv2.rectangle(img,(a,b),(a+c,b+d),(0,255,210),4)\n",
    "    \n",
    "    cv2.imshow('video', img)\n",
    "    \n",
    "    if cv2.waitKey(1) & 0xFF == ord('q'):\n",
    "        break\n",
    "\n",
    "cv2.destroyAllWindows()"
   ]
  }
 ],
 "metadata": {
  "kernelspec": {
   "display_name": "Python 3 (ipykernel)",
   "language": "python",
   "name": "python3"
  },
  "language_info": {
   "codemirror_mode": {
    "name": "ipython",
    "version": 3
   },
   "file_extension": ".py",
   "mimetype": "text/x-python",
   "name": "python",
   "nbconvert_exporter": "python",
   "pygments_lexer": "ipython3",
   "version": "3.9.7"
  }
 },
 "nbformat": 4,
 "nbformat_minor": 5
}
